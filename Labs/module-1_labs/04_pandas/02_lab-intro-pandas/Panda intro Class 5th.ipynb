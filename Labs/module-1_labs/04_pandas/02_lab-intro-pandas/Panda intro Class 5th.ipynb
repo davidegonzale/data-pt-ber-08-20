{
 "cells": [
  {
   "cell_type": "code",
   "execution_count": 2,
   "metadata": {},
   "outputs": [],
   "source": [
    "import numpy as np\n",
    "import pandas as pd "
   ]
  },
  {
   "cell_type": "code",
   "execution_count": 8,
   "metadata": {},
   "outputs": [
    {
     "data": {
      "text/plain": [
       "0    0\n",
       "1    1\n",
       "2    2\n",
       "3    3\n",
       "4    4\n",
       "5    5\n",
       "6    6\n",
       "7    7\n",
       "8    8\n",
       "9    9\n",
       "dtype: int64"
      ]
     },
     "execution_count": 8,
     "metadata": {},
     "output_type": "execute_result"
    }
   ],
   "source": [
    "np.arange(10)\n",
    "a = pd.Series(np.arange(10))\n",
    "a"
   ]
  },
  {
   "cell_type": "code",
   "execution_count": 10,
   "metadata": {},
   "outputs": [
    {
     "data": {
      "text/plain": [
       "a    0\n",
       "b    1\n",
       "c    2\n",
       "d    3\n",
       "e    4\n",
       "dtype: int64"
      ]
     },
     "execution_count": 10,
     "metadata": {},
     "output_type": "execute_result"
    }
   ],
   "source": [
    "mydict = {\"a\" : 0, \"b\": 1, \"c\": 2, \"d\": 3, \"e\": 4}\n",
    "pd.Series(mydict)"
   ]
  },
  {
   "cell_type": "code",
   "execution_count": 13,
   "metadata": {},
   "outputs": [
    {
     "name": "stdout",
     "output_type": "stream",
     "text": [
      "   0\n",
      "0  0\n",
      "1  1\n",
      "2  2\n",
      "3  3\n",
      "4  4\n",
      "5  5\n",
      "6  6\n",
      "7  7\n",
      "8  8\n",
      "9  9\n"
     ]
    }
   ],
   "source": [
    "df_ser = pd.DataFrame(np.arange(10))\n",
    "print(df_ser)"
   ]
  },
  {
   "cell_type": "code",
   "execution_count": 16,
   "metadata": {},
   "outputs": [
    {
     "data": {
      "text/html": [
       "<div>\n",
       "<style scoped>\n",
       "    .dataframe tbody tr th:only-of-type {\n",
       "        vertical-align: middle;\n",
       "    }\n",
       "\n",
       "    .dataframe tbody tr th {\n",
       "        vertical-align: top;\n",
       "    }\n",
       "\n",
       "    .dataframe thead th {\n",
       "        text-align: right;\n",
       "    }\n",
       "</style>\n",
       "<table border=\"1\" class=\"dataframe\">\n",
       "  <thead>\n",
       "    <tr style=\"text-align: right;\">\n",
       "      <th></th>\n",
       "      <th>Column1</th>\n",
       "      <th>Column2</th>\n",
       "      <th>Column3</th>\n",
       "      <th>Column4</th>\n",
       "      <th>Column5</th>\n",
       "    </tr>\n",
       "  </thead>\n",
       "  <tbody>\n",
       "    <tr>\n",
       "      <th>0</th>\n",
       "      <td>0.677888</td>\n",
       "      <td>0.218233</td>\n",
       "      <td>0.297650</td>\n",
       "      <td>0.764143</td>\n",
       "      <td>0.987249</td>\n",
       "    </tr>\n",
       "    <tr>\n",
       "      <th>1</th>\n",
       "      <td>0.136575</td>\n",
       "      <td>0.882488</td>\n",
       "      <td>0.144309</td>\n",
       "      <td>0.004656</td>\n",
       "      <td>0.022685</td>\n",
       "    </tr>\n",
       "    <tr>\n",
       "      <th>2</th>\n",
       "      <td>0.071985</td>\n",
       "      <td>0.561556</td>\n",
       "      <td>0.842125</td>\n",
       "      <td>0.978043</td>\n",
       "      <td>0.936090</td>\n",
       "    </tr>\n",
       "    <tr>\n",
       "      <th>3</th>\n",
       "      <td>0.332654</td>\n",
       "      <td>0.931284</td>\n",
       "      <td>0.216683</td>\n",
       "      <td>0.615603</td>\n",
       "      <td>0.924815</td>\n",
       "    </tr>\n",
       "    <tr>\n",
       "      <th>4</th>\n",
       "      <td>0.608891</td>\n",
       "      <td>0.119208</td>\n",
       "      <td>0.953576</td>\n",
       "      <td>0.943238</td>\n",
       "      <td>0.257080</td>\n",
       "    </tr>\n",
       "    <tr>\n",
       "      <th>5</th>\n",
       "      <td>0.799583</td>\n",
       "      <td>0.763072</td>\n",
       "      <td>0.488294</td>\n",
       "      <td>0.721072</td>\n",
       "      <td>0.619762</td>\n",
       "    </tr>\n",
       "    <tr>\n",
       "      <th>6</th>\n",
       "      <td>0.870534</td>\n",
       "      <td>0.278201</td>\n",
       "      <td>0.762516</td>\n",
       "      <td>0.141544</td>\n",
       "      <td>0.275419</td>\n",
       "    </tr>\n",
       "    <tr>\n",
       "      <th>7</th>\n",
       "      <td>0.156954</td>\n",
       "      <td>0.063100</td>\n",
       "      <td>0.476858</td>\n",
       "      <td>0.061399</td>\n",
       "      <td>0.514803</td>\n",
       "    </tr>\n",
       "    <tr>\n",
       "      <th>8</th>\n",
       "      <td>0.950332</td>\n",
       "      <td>0.520672</td>\n",
       "      <td>0.592049</td>\n",
       "      <td>0.874964</td>\n",
       "      <td>0.502182</td>\n",
       "    </tr>\n",
       "    <tr>\n",
       "      <th>9</th>\n",
       "      <td>0.837193</td>\n",
       "      <td>0.581006</td>\n",
       "      <td>0.345492</td>\n",
       "      <td>0.846488</td>\n",
       "      <td>0.048737</td>\n",
       "    </tr>\n",
       "  </tbody>\n",
       "</table>\n",
       "</div>"
      ],
      "text/plain": [
       "    Column1   Column2   Column3   Column4   Column5\n",
       "0  0.677888  0.218233  0.297650  0.764143  0.987249\n",
       "1  0.136575  0.882488  0.144309  0.004656  0.022685\n",
       "2  0.071985  0.561556  0.842125  0.978043  0.936090\n",
       "3  0.332654  0.931284  0.216683  0.615603  0.924815\n",
       "4  0.608891  0.119208  0.953576  0.943238  0.257080\n",
       "5  0.799583  0.763072  0.488294  0.721072  0.619762\n",
       "6  0.870534  0.278201  0.762516  0.141544  0.275419\n",
       "7  0.156954  0.063100  0.476858  0.061399  0.514803\n",
       "8  0.950332  0.520672  0.592049  0.874964  0.502182\n",
       "9  0.837193  0.581006  0.345492  0.846488  0.048737"
      ]
     },
     "execution_count": 16,
     "metadata": {},
     "output_type": "execute_result"
    }
   ],
   "source": [
    "colnames = ['Column1','Column2','Column3','Column4','Column5']\n",
    "df = pd.DataFrame(np.random.random((10,5)), columns=colnames)\n",
    "df\n"
   ]
  },
  {
   "cell_type": "code",
   "execution_count": 18,
   "metadata": {},
   "outputs": [
    {
     "data": {
      "text/plain": [
       "0    0.677888\n",
       "1    0.136575\n",
       "2    0.071985\n",
       "3    0.332654\n",
       "4    0.608891\n",
       "5    0.799583\n",
       "6    0.870534\n",
       "7    0.156954\n",
       "8    0.950332\n",
       "9    0.837193\n",
       "Name: Column1, dtype: float64"
      ]
     },
     "execution_count": 18,
     "metadata": {},
     "output_type": "execute_result"
    }
   ],
   "source": [
    "df['Column1']\n"
   ]
  },
  {
   "cell_type": "code",
   "execution_count": null,
   "metadata": {},
   "outputs": [],
   "source": []
  }
 ],
 "metadata": {
  "kernelspec": {
   "display_name": "Python 3",
   "language": "python",
   "name": "python3"
  },
  "language_info": {
   "codemirror_mode": {
    "name": "ipython",
    "version": 3
   },
   "file_extension": ".py",
   "mimetype": "text/x-python",
   "name": "python",
   "nbconvert_exporter": "python",
   "pygments_lexer": "ipython3",
   "version": "3.8.5"
  }
 },
 "nbformat": 4,
 "nbformat_minor": 4
}
