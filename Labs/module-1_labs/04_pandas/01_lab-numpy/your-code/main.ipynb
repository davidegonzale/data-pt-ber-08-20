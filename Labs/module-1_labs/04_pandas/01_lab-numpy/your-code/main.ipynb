{
 "cells": [
  {
   "cell_type": "markdown",
   "metadata": {},
   "source": [
    "# Working with Numpy\n",
    "\n",
    "Numpy is the numerical python package, with a lot of mathematical capabilities. Before we can use it, we need to first import the package. We will import it under the name np such that we can afterwards refer to it by this short name."
   ]
  },
  {
   "cell_type": "code",
   "execution_count": 1,
   "metadata": {},
   "outputs": [],
   "source": [
    "import numpy as np "
   ]
  },
  {
   "cell_type": "markdown",
   "metadata": {},
   "source": [
    "In the cell below, generate two 2x3 array with all elements equal to 1 - assign one of the arrays to the variable a and the other one to b. Add the two arrays. What do you get?"
   ]
  },
  {
   "cell_type": "code",
   "execution_count": 12,
   "metadata": {},
   "outputs": [
    {
     "name": "stdout",
     "output_type": "stream",
     "text": [
      "[[1 1 1]\n",
      " [1 1 1]]\n",
      "[[1 1 1]\n",
      " [1 1 1]]\n"
     ]
    },
    {
     "data": {
      "text/plain": [
       "array([[2, 2, 2],\n",
       "       [2, 2, 2]])"
      ]
     },
     "execution_count": 12,
     "metadata": {},
     "output_type": "execute_result"
    }
   ],
   "source": [
    "a = np.full((2,3), 1)\n",
    "b = np.full((2,3), 1)\n",
    "print(a)\n",
    "print(b)\n",
    "a + b\n",
    "# I get 2 as a result of adding 1 +1 "
   ]
  },
  {
   "cell_type": "markdown",
   "metadata": {},
   "source": [
    "Now generate another array c which is a 3x2 array with all elements equal to 1. Are you able to add a and c? Why or why not?"
   ]
  },
  {
   "cell_type": "code",
   "execution_count": 14,
   "metadata": {},
   "outputs": [
    {
     "ename": "ValueError",
     "evalue": "operands could not be broadcast together with shapes (2,3) (3,2) ",
     "output_type": "error",
     "traceback": [
      "\u001b[0;31m---------------------------------------------------------------------------\u001b[0m",
      "\u001b[0;31mValueError\u001b[0m                                Traceback (most recent call last)",
      "\u001b[0;32m<ipython-input-14-ed5ff780c131>\u001b[0m in \u001b[0;36m<module>\u001b[0;34m\u001b[0m\n\u001b[1;32m      1\u001b[0m \u001b[0mc\u001b[0m \u001b[0;34m=\u001b[0m \u001b[0mnp\u001b[0m\u001b[0;34m.\u001b[0m\u001b[0mfull\u001b[0m\u001b[0;34m(\u001b[0m\u001b[0;34m(\u001b[0m\u001b[0;36m3\u001b[0m\u001b[0;34m,\u001b[0m \u001b[0;36m2\u001b[0m\u001b[0;34m)\u001b[0m\u001b[0;34m,\u001b[0m \u001b[0;36m1\u001b[0m\u001b[0;34m)\u001b[0m\u001b[0;34m\u001b[0m\u001b[0;34m\u001b[0m\u001b[0m\n\u001b[0;32m----> 2\u001b[0;31m \u001b[0ma\u001b[0m \u001b[0;34m+\u001b[0m \u001b[0mc\u001b[0m\u001b[0;34m\u001b[0m\u001b[0;34m\u001b[0m\u001b[0m\n\u001b[0m\u001b[1;32m      3\u001b[0m \u001b[0;31m# No, because arrays don't have the same measurements 2x3 vs 3x2\u001b[0m\u001b[0;34m\u001b[0m\u001b[0;34m\u001b[0m\u001b[0;34m\u001b[0m\u001b[0m\n",
      "\u001b[0;31mValueError\u001b[0m: operands could not be broadcast together with shapes (2,3) (3,2) "
     ]
    }
   ],
   "source": [
    "c = np.full((3, 2), 1)\n",
    "a + c\n",
    "# No, because arrays don't have the same measurements 2x3 vs 3x2 "
   ]
  },
  {
   "cell_type": "markdown",
   "metadata": {},
   "source": [
    "Transpose c so that it has the same structure of a (i.e. become a 2x3 array). Assign the transposed array to variable \"d\". Are you able to add a and d?"
   ]
  },
  {
   "cell_type": "code",
   "execution_count": 17,
   "metadata": {},
   "outputs": [
    {
     "data": {
      "text/plain": [
       "array([[2, 2, 2],\n",
       "       [2, 2, 2]])"
      ]
     },
     "execution_count": 17,
     "metadata": {},
     "output_type": "execute_result"
    }
   ],
   "source": [
    "d = c.transpose()\n",
    "d + a\n",
    "#Yes it worked "
   ]
  },
  {
   "cell_type": "markdown",
   "metadata": {},
   "source": [
    "Which combination of arrays are you able to multiply with each other? Why?"
   ]
  },
  {
   "cell_type": "code",
   "execution_count": 19,
   "metadata": {},
   "outputs": [
    {
     "ename": "ValueError",
     "evalue": "operands could not be broadcast together with shapes (3,5) (2,3) ",
     "output_type": "error",
     "traceback": [
      "\u001b[0;31m---------------------------------------------------------------------------\u001b[0m",
      "\u001b[0;31mValueError\u001b[0m                                Traceback (most recent call last)",
      "\u001b[0;32m<ipython-input-19-c1c6d19fe967>\u001b[0m in \u001b[0;36m<module>\u001b[0;34m\u001b[0m\n\u001b[1;32m      1\u001b[0m \u001b[0mz\u001b[0m \u001b[0;34m=\u001b[0m \u001b[0mnp\u001b[0m\u001b[0;34m.\u001b[0m\u001b[0mfull\u001b[0m\u001b[0;34m(\u001b[0m\u001b[0;34m(\u001b[0m\u001b[0;36m3\u001b[0m\u001b[0;34m,\u001b[0m\u001b[0;36m5\u001b[0m\u001b[0;34m)\u001b[0m\u001b[0;34m,\u001b[0m \u001b[0;36m4\u001b[0m\u001b[0;34m)\u001b[0m\u001b[0;34m\u001b[0m\u001b[0;34m\u001b[0m\u001b[0m\n\u001b[1;32m      2\u001b[0m \u001b[0my\u001b[0m \u001b[0;34m=\u001b[0m \u001b[0mnp\u001b[0m\u001b[0;34m.\u001b[0m\u001b[0mfull\u001b[0m\u001b[0;34m(\u001b[0m\u001b[0;34m(\u001b[0m\u001b[0;36m2\u001b[0m\u001b[0;34m,\u001b[0m\u001b[0;36m3\u001b[0m\u001b[0;34m)\u001b[0m\u001b[0;34m,\u001b[0m \u001b[0;36m5\u001b[0m\u001b[0;34m)\u001b[0m\u001b[0;34m\u001b[0m\u001b[0;34m\u001b[0m\u001b[0m\n\u001b[0;32m----> 3\u001b[0;31m \u001b[0mz\u001b[0m \u001b[0;34m*\u001b[0m \u001b[0my\u001b[0m\u001b[0;34m\u001b[0m\u001b[0;34m\u001b[0m\u001b[0m\n\u001b[0m\u001b[1;32m      4\u001b[0m \u001b[0;34m\u001b[0m\u001b[0m\n\u001b[1;32m      5\u001b[0m \u001b[0;31m# We can only multiply arrays that have the same shape, meaning (2x3)*(2x3);\u001b[0m\u001b[0;34m\u001b[0m\u001b[0;34m\u001b[0m\u001b[0;34m\u001b[0m\u001b[0m\n",
      "\u001b[0;31mValueError\u001b[0m: operands could not be broadcast together with shapes (3,5) (2,3) "
     ]
    }
   ],
   "source": [
    "z = np.full((3,5), 4)\n",
    "y = np.full((2,3), 5)\n",
    "z * y\n",
    "\n",
    "# We can only multiply arrays that have the same shape, meaning (2x3)*(2x3);\n",
    "# If we try to multiply an array smaller or bigger than that, we will get an error \n",
    "# ValueError: operands could not be broadcast together with shapes (3,5) (2,3) "
   ]
  },
  {
   "cell_type": "markdown",
   "metadata": {},
   "source": [
    "Create a list which contains the numbers from 0 to 10. Square the list elementwise using numpy functions."
   ]
  },
  {
   "cell_type": "code",
   "execution_count": 24,
   "metadata": {},
   "outputs": [
    {
     "data": {
      "text/plain": [
       "array([  0,   1,   4,   9,  16,  25,  36,  49,  64,  81, 100])"
      ]
     },
     "execution_count": 24,
     "metadata": {},
     "output_type": "execute_result"
    }
   ],
   "source": [
    "list1 = [0, 1, 2, 3, 4, 5, 6, 7, 8 , 9, 10]\n",
    "np.square(list1)"
   ]
  },
  {
   "cell_type": "markdown",
   "metadata": {},
   "source": [
    "Create a numpy array of size 10x10 which has random numbers between 0 and 100 on the main diagonal and zeros otherwise."
   ]
  },
  {
   "cell_type": "code",
   "execution_count": 26,
   "metadata": {},
   "outputs": [
    {
     "data": {
      "text/plain": [
       "array([[44.81945133, 56.40822335, 66.03199494, 83.89210599, 76.38050285,\n",
       "        86.78784985, 49.39015282, 92.88666841, 54.60497053, 30.3096442 ],\n",
       "       [27.41759275, 95.16587682, 15.833521  , 47.35452612, 55.79511571,\n",
       "        72.90010179, 11.76468049, 13.09913311, 94.54732411,  3.6257108 ],\n",
       "       [35.79330989, 44.16081514, 77.35246674, 18.23277852, 51.26489377,\n",
       "        89.98012708, 14.99037839, 42.06151668, 80.56376613, 77.08711243],\n",
       "       [38.23244474,  5.52592873, 45.57082914, 67.16459521, 20.27735538,\n",
       "        60.63938483, 85.01227795, 37.9482083 , 62.09086885, 71.23215368],\n",
       "       [33.73539525, 49.73030181, 49.52701952, 32.83654169, 23.54367503,\n",
       "        31.12325059, 46.64413942, 15.27435706, 36.41943404, 84.00573513],\n",
       "       [75.07356556, 16.09458349,  9.65017401, 23.52880877, 67.4571349 ,\n",
       "        16.80534058, 80.10829158, 50.6176927 , 37.32068951, 98.89800516],\n",
       "       [56.91308911, 68.89583027,  8.1615331 , 56.22687699, 76.81919939,\n",
       "        33.72621952, 38.98782635, 43.7347786 , 30.92025298, 17.40151798],\n",
       "       [ 2.27593747,  2.70867895, 93.93473963, 30.64130758,  6.53903638,\n",
       "        31.46534604, 18.37276312, 95.70242235, 45.52865869, 26.71109924],\n",
       "       [22.8794747 , 39.59735593, 86.67170042, 28.82495777, 31.9583784 ,\n",
       "        20.86114134,  2.94360041, 77.78582601, 48.70748004, 20.36776055],\n",
       "       [93.28361529, 56.91364574, 66.77046736, 62.80748201, 39.05262538,\n",
       "        21.71292025, 99.3518134 , 51.90809895, 65.13540981,  0.84239557]])"
      ]
     },
     "execution_count": 26,
     "metadata": {},
     "output_type": "execute_result"
    }
   ],
   "source": [
    "array1 = np.random.random((10, 10))*100\n",
    "array1"
   ]
  },
  {
   "cell_type": "code",
   "execution_count": 1,
   "metadata": {},
   "outputs": [
    {
     "name": "stdout",
     "output_type": "stream",
     "text": [
      "You Rock Gonz!\n"
     ]
    }
   ],
   "source": [
    "David = \"You Rock Gonz!\"\n",
    "print(David)"
   ]
  }
 ],
 "metadata": {
  "kernelspec": {
   "display_name": "Python 3",
   "language": "python",
   "name": "python3"
  },
  "language_info": {
   "codemirror_mode": {
    "name": "ipython",
    "version": 3
   },
   "file_extension": ".py",
   "mimetype": "text/x-python",
   "name": "python",
   "nbconvert_exporter": "python",
   "pygments_lexer": "ipython3",
   "version": "3.8.5"
  }
 },
 "nbformat": 4,
 "nbformat_minor": 2
}
