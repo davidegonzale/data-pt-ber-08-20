{
 "cells": [
  {
   "cell_type": "markdown",
   "metadata": {},
   "source": [
    "# Before your start:\n",
    "\n",
    "    Read the README.md file\n",
    "    Comment as much as you can and use the resources (README.md file)\n",
    "    Happy learning!\n",
    "\n",
    "*Notes:* \n",
    "\n",
    "- Solve the questions with python.\n",
    "\n",
    "- Round the final answer to three decimal places."
   ]
  },
  {
   "cell_type": "code",
   "execution_count": 36,
   "metadata": {},
   "outputs": [],
   "source": [
    "import numpy as np\n",
    "import pandas as pd \n",
    "import scipy.stats\n",
    "import matplotlib.pyplot as plt \n",
    "from scipy.stats import mode\n",
    "from scipy.stats import randint\n",
    "import seaborn as sns\n"
   ]
  },
  {
   "cell_type": "markdown",
   "metadata": {},
   "source": [
    "## Bernoulli's Distribution\n",
    "\n",
    "In a basket containing 100 fruits, there are 60 apples and 40 oranges. \n",
    "\n",
    "A fruit is picked randomly from the basket. \n",
    "\n",
    "1. **What is the probability that the fruit is apple?**\n",
    "1. **What is the probability that it is an orange?**\n",
    "\n",
    "Please use a Bernoulli distribution for your answer."
   ]
  },
  {
   "cell_type": "code",
   "execution_count": 19,
   "metadata": {},
   "outputs": [
    {
     "name": "stdout",
     "output_type": "stream",
     "text": [
      "The probability that the fruit is an apple: 0.6\n",
      "The probability that the fruit is an orange: 0.4\n"
     ]
    }
   ],
   "source": [
    "p = 0.6 # This is my success 1 \n",
    "q = 0.4 # This is my failure 2\n",
    "bern= scipy.stats.bernoulli(p)\n",
    "print('The probability that the fruit is an apple:', bern.pmf(1))\n",
    "print('The probability that the fruit is an orange:', bern.pmf(0))"
   ]
  },
  {
   "cell_type": "markdown",
   "metadata": {},
   "source": [
    "Now we take a random sample of 20 fruits from the basket. After each fruit is taken, a new fruit of the same type is placed in the basket. Therefore, every time we are taking 1 fruit from 100 fruits. \n",
    "\n",
    "1. **What is the probability that the first 5 fruits are all apples?**\n",
    "\n",
    "1. **What is the probability that the first 5 fruits are all apples and the next 15 fruits are all oranges?**\n",
    "\n",
    "You can include the `p` and `q` probabilities you previous calculated in your solution."
   ]
  },
  {
   "cell_type": "code",
   "execution_count": 20,
   "metadata": {},
   "outputs": [
    {
     "name": "stdout",
     "output_type": "stream",
     "text": [
      "The probability that the first 5 fruits are all apples: 0.07775999999999998\n",
      "The probability that the first 5 fruits are all apples and the next 15 fruits are all oranges: 8.349416423424006e-08\n"
     ]
    }
   ],
   "source": [
    "print('The probability that the first 5 fruits are all apples:', p**5)\n",
    "print('The probability that the first 5 fruits are all apples and the next 15 fruits are all oranges:', (p**5)*(q**15))\n",
    "\n"
   ]
  },
  {
   "cell_type": "markdown",
   "metadata": {},
   "source": [
    "## Binomial Distribution\n",
    "\n",
    "Similar to the above problem, this time again we randomly sample 20 fruits. Fruits are being replaced again after we take one out, so the probability distribution does not change. We can use a binomial distribution here!\n",
    "\n",
    "**What is the probability that this time the sample contains 5 apples and 15 oranges?**\n",
    "\n",
    "Please note that this time the order of the fruits being picked does not matter, we just want the probability of having exactly 5 apples in a sample of 20 fruits."
   ]
  },
  {
   "cell_type": "code",
   "execution_count": 24,
   "metadata": {},
   "outputs": [
    {
     "name": "stdout",
     "output_type": "stream",
     "text": [
      "Probability that this time same contains 5 apples and 15 oranges 0.0012944935222876511\n"
     ]
    }
   ],
   "source": [
    "n = 20 \n",
    "bi = scipy.stats.binom(n,p)\n",
    "print('Probability that this time same contains 5 apples and 15 oranges', bi.pmf(5))\n"
   ]
  },
  {
   "cell_type": "markdown",
   "metadata": {},
   "source": [
    "In the lesson we also discussed CDF (cumulative distribution function). In the context of the above problem, **what is the probability that less than 5 fruits picked are apples?** (so 1 - 4 fruits are apples!)"
   ]
  },
  {
   "cell_type": "code",
   "execution_count": 28,
   "metadata": {},
   "outputs": [
    {
     "name": "stdout",
     "output_type": "stream",
     "text": [
      "Probability that less than 5 fruits picked are apples: 0.0003170311211686301\n"
     ]
    }
   ],
   "source": [
    "print('Probability that less than 5 fruits picked are apples:', bi.cdf(4))\n"
   ]
  },
  {
   "cell_type": "markdown",
   "metadata": {},
   "source": [
    "**Plot the PDF (probability distributiom function) for the above binomial distribution.**\n",
    "\n",
    "*Hint: The range of x in a binomial distribution is from `0` to `n`.*\n",
    "\n",
    "A pretty way to plot this is is to first use plt.plot with the option to plot circles instead of lines, and then using plt.vlines to connect the circles to 0 at the bottom."
   ]
  },
  {
   "cell_type": "code",
   "execution_count": 50,
   "metadata": {},
   "outputs": [
    {
     "data": {
      "text/plain": [
       "Text(0.5, 1.0, 'Meh')"
      ]
     },
     "execution_count": 50,
     "metadata": {},
     "output_type": "execute_result"
    },
    {
     "data": {
      "image/png": "[encoded data removed]",
      "text/plain": [
       "<Figure size 432x288 with 1 Axes>"
      ]
     },
     "metadata": {
      "needs_background": "light"
     },
     "output_type": "display_data"
    }
   ],
   "source": [
    "# your code here\n",
    "# Please label the axes and give a title to the plot \n",
    "numrange = range(0, 20)\n",
    "data = bi.pmf(numrange)\n",
    "#ax = sns.distplot(data,kde=True,color='pink',hist_kws={\"linewidth\": 22,'alpha':0.77})\n",
    "plt.vlines(numrange,0, bi.pmf(numrange))\n",
    "plt.plot(numrange,bi.pmf(numrange), 'o')\n",
    "plt.xlabel('Binominal')\n",
    "plt.ylabel('Frequency')\n",
    "plt.title('Meh')\n"
   ]
  },
  {
   "cell_type": "markdown",
   "metadata": {},
   "source": [
    "## Poisson Distribution\n",
    "\n",
    "For this challenge, read up on the Poisson Distribution in the class notes in studio! The shape of a Poisson distribution is determined by its lambda parameter, and is related to the frequency with which events occur. \n",
    "\n",
    "In the UEFA champions league tournament, the average number of goals scored in a match is 2.3. \n",
    "\n",
    "**Using a Poisson Distribution, what is the probability that the number of goals scored in a match is 5?**"
   ]
  },
  {
   "cell_type": "code",
   "execution_count": null,
   "metadata": {},
   "outputs": [],
   "source": [
    "# your code here "
   ]
  },
  {
   "cell_type": "markdown",
   "metadata": {},
   "source": [
    "**Draw a poisson probability distribution plot for the number of goals to be between 0 to 10.**"
   ]
  },
  {
   "cell_type": "code",
   "execution_count": null,
   "metadata": {},
   "outputs": [],
   "source": [
    "# your code here\n",
    "# Please label the axes and give a title to the plot "
   ]
  }
 ],
 "metadata": {
  "kernelspec": {
   "display_name": "Python 3",
   "language": "python",
   "name": "python3"
  },
  "language_info": {
   "codemirror_mode": {
    "name": "ipython",
    "version": 3
   },
   "file_extension": ".py",
   "mimetype": "text/x-python",
   "name": "python",
   "nbconvert_exporter": "python",
   "pygments_lexer": "ipython3",
   "version": "3.8.5"
  }
 },
 "nbformat": 4,
 "nbformat_minor": 4
}
