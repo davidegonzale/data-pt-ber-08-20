{
 "cells": [
  {
   "cell_type": "code",
   "execution_count": 2,
   "metadata": {},
   "outputs": [],
   "source": [
    "import numpy as np"
   ]
  },
  {
   "cell_type": "code",
   "execution_count": 11,
   "metadata": {},
   "outputs": [
    {
     "data": {
      "text/plain": [
       "array([[[0.56268456, 0.37377541, 0.12196282, 0.84014432, 0.51920942],\n",
       "        [0.74541628, 0.50396961, 0.48318888, 0.30726739, 0.10995831],\n",
       "        [0.87225885, 0.97451648, 0.70318567, 0.27298702, 0.59198281]],\n",
       "\n",
       "       [[0.0352719 , 0.73460421, 0.99876251, 0.84849142, 0.65224808],\n",
       "        [0.35367286, 0.38452427, 0.85395186, 0.69598028, 0.8856841 ],\n",
       "        [0.03167378, 0.67838264, 0.62435478, 0.40777556, 0.48517559]]])"
      ]
     },
     "execution_count": 11,
     "metadata": {},
     "output_type": "execute_result"
    }
   ],
   "source": [
    "a = np.random.random((2, 3, 5))\n",
    "a"
   ]
  },
  {
   "cell_type": "code",
   "execution_count": 12,
   "metadata": {},
   "outputs": [
    {
     "data": {
      "text/plain": [
       "30"
      ]
     },
     "execution_count": 12,
     "metadata": {},
     "output_type": "execute_result"
    }
   ],
   "source": [
    "a.shape\n",
    "a.size"
   ]
  },
  {
   "cell_type": "code",
   "execution_count": 18,
   "metadata": {},
   "outputs": [
    {
     "data": {
      "text/plain": [
       "array([[[5.        , 0.37377541, 0.12196282, 0.84014432, 0.51920942],\n",
       "        [0.74541628, 0.50396961, 0.48318888, 0.30726739, 0.10995831],\n",
       "        [0.87225885, 0.97451648, 0.70318567, 0.27298702, 0.59198281]],\n",
       "\n",
       "       [[0.0352719 , 0.73460421, 0.99876251, 0.84849142, 0.65224808],\n",
       "        [0.35367286, 0.38452427, 0.85395186, 0.69598028, 0.8856841 ],\n",
       "        [0.03167378, 0.67838264, 0.62435478, 0.40777556, 0.48517559]]])"
      ]
     },
     "execution_count": 18,
     "metadata": {},
     "output_type": "execute_result"
    }
   ],
   "source": [
    "a[0,0,0] = 5\n",
    "a"
   ]
  },
  {
   "cell_type": "code",
   "execution_count": 20,
   "metadata": {},
   "outputs": [],
   "source": [
    "mylist = [\"cat\", \"dog\"]"
   ]
  },
  {
   "cell_type": "code",
   "execution_count": 22,
   "metadata": {},
   "outputs": [
    {
     "data": {
      "text/plain": [
       "array(['cat', 'dog'], dtype='<U3')"
      ]
     },
     "execution_count": 22,
     "metadata": {},
     "output_type": "execute_result"
    }
   ],
   "source": [
    "np.array(mylist)"
   ]
  },
  {
   "cell_type": "code",
   "execution_count": 3,
   "metadata": {},
   "outputs": [
    {
     "data": {
      "text/plain": [
       "array([4, 5, 6, 7, 8, 2, 4, 5, 6])"
      ]
     },
     "execution_count": 3,
     "metadata": {},
     "output_type": "execute_result"
    }
   ],
   "source": [
    "test = [4, 5, 6, 7, 8, 2, 4, 5, 6]\n",
    "np.array(test)"
   ]
  },
  {
   "cell_type": "code",
   "execution_count": 7,
   "metadata": {},
   "outputs": [
    {
     "name": "stdout",
     "output_type": "stream",
     "text": [
      "[[0.04593675 0.51686729 0.50191799 0.00852139]\n",
      " [0.09650984 0.86507818 0.34881756 0.27302812]\n",
      " [0.15705915 0.61293139 0.37493054 0.6514269 ]]\n",
      "[[0.27984262 0.04042624 0.28746519 0.8454185 ]\n",
      " [0.58104057 0.95413737 0.48755889 0.84631006]\n",
      " [0.9937633  0.1427533  0.59757788 0.46220503]]\n"
     ]
    }
   ],
   "source": [
    "first = np.random.random((3, 4))\n",
    "second = np.random.random((3, 4))\n",
    "print(first)\n",
    "print(second)"
   ]
  },
  {
   "cell_type": "code",
   "execution_count": 10,
   "metadata": {},
   "outputs": [
    {
     "name": "stdout",
     "output_type": "stream",
     "text": [
      "[[0.32577936 0.55729353 0.78938318 0.85393989]\n",
      " [0.67755041 1.81921554 0.83637645 1.11933818]\n",
      " [1.15082245 0.75568469 0.97250842 1.11363194]]\n"
     ]
    }
   ],
   "source": [
    "sum1 = np.add(first, second)\n",
    "print(sum1)"
   ]
  },
  {
   "cell_type": "code",
   "execution_count": 11,
   "metadata": {},
   "outputs": [
    {
     "data": {
      "text/plain": [
       "array([[0.32577936, 0.55729353, 0.78938318, 0.85393989],\n",
       "       [0.67755041, 1.81921554, 0.83637645, 1.11933818],\n",
       "       [1.15082245, 0.75568469, 0.97250842, 1.11363194]])"
      ]
     },
     "execution_count": 11,
     "metadata": {},
     "output_type": "execute_result"
    }
   ],
   "source": [
    "first + second "
   ]
  }
 ],
 "metadata": {
  "kernelspec": {
   "display_name": "Python 3",
   "language": "python",
   "name": "python3"
  },
  "language_info": {
   "codemirror_mode": {
    "name": "ipython",
    "version": 3
   },
   "file_extension": ".py",
   "mimetype": "text/x-python",
   "name": "python",
   "nbconvert_exporter": "python",
   "pygments_lexer": "ipython3",
   "version": "3.8.5"
  }
 },
 "nbformat": 4,
 "nbformat_minor": 4
}
